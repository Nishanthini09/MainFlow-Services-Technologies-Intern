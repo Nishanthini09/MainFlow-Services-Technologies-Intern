{
  "nbformat": 4,
  "nbformat_minor": 0,
  "metadata": {
    "colab": {
      "provenance": []
    },
    "kernelspec": {
      "name": "python3",
      "display_name": "Python 3"
    },
    "language_info": {
      "name": "python"
    }
  },
  "cells": [
    {
      "cell_type": "markdown",
      "source": [
        "**List**"
      ],
      "metadata": {
        "id": "JchSPaVg7PZy"
      }
    },
    {
      "cell_type": "code",
      "execution_count": null,
      "metadata": {
        "colab": {
          "base_uri": "https://localhost:8080/"
        },
        "id": "W2Bh_HF8cOHn",
        "outputId": "8c9ae48e-590d-4c77-93c3-61034b4645cf"
      },
      "outputs": [
        {
          "output_type": "stream",
          "name": "stdout",
          "text": [
            "[1, 'df', 'abc', 3, 'def']\n",
            "[]\n",
            "[1, 2, 3]\n"
          ]
        }
      ],
      "source": [
        "list1 = [1 , 'df', 'abc', 3, 'def']\n",
        "list2 = []\n",
        "list3 = list((1, 2, 3))\n",
        "print(list1)\n",
        "print(list2)\n",
        "print(list3)"
      ]
    },
    {
      "cell_type": "code",
      "source": [
        "list1 = [1, 2, \"hello\", 3]\n",
        "print(list1[2])\n"
      ],
      "metadata": {
        "colab": {
          "base_uri": "https://localhost:8080/"
        },
        "id": "yIX8vNxqdIA9",
        "outputId": "d33884a6-2253-4aca-af83-21aa0a064fba"
      },
      "execution_count": null,
      "outputs": [
        {
          "output_type": "stream",
          "name": "stdout",
          "text": [
            "hello\n"
          ]
        }
      ]
    },
    {
      "cell_type": "code",
      "source": [
        "#Add\n",
        "list1 = [\"one\", \"two\", \"three\"]\n",
        "list1.append(\"four\")\n",
        "print(list1)"
      ],
      "metadata": {
        "colab": {
          "base_uri": "https://localhost:8080/"
        },
        "id": "hohfdztsdOd9",
        "outputId": "5a9d8ffd-1792-4c24-d557-04b48a0a7f13"
      },
      "execution_count": null,
      "outputs": [
        {
          "output_type": "stream",
          "name": "stdout",
          "text": [
            "['one', 'two', 'three', 'four']\n"
          ]
        }
      ]
    },
    {
      "cell_type": "code",
      "source": [
        "#Delete\n",
        "list1 = [\"one\", \"two\", \"three\", \"four\"]\n",
        "list1.pop()\n",
        "print(list1)"
      ],
      "metadata": {
        "colab": {
          "base_uri": "https://localhost:8080/"
        },
        "id": "MKDXpYc5dY2Z",
        "outputId": "0fe44eb6-915b-4fb0-8b68-0c10a9879dd0"
      },
      "execution_count": null,
      "outputs": [
        {
          "output_type": "stream",
          "name": "stdout",
          "text": [
            "['one', 'two', 'three']\n"
          ]
        }
      ]
    },
    {
      "cell_type": "code",
      "source": [
        "#Modifying elements\n",
        "print(\"Original :\")\n",
        "print(list1)\n",
        "\n",
        "# Change value at index 2 (third element) in l2\n",
        "list1[2] = 5\n",
        "\n",
        "# Print the modified list l2\n",
        "print(\"Modified :\")\n",
        "print(list1)"
      ],
      "metadata": {
        "id": "AFI-vTA66ApT"
      },
      "execution_count": null,
      "outputs": []
    },
    {
      "cell_type": "code",
      "source": [
        "#Sort\n",
        "list1 = [100, 3, 4, 12, 1]\n",
        "list1.sort()\n",
        "print(list1)"
      ],
      "metadata": {
        "colab": {
          "base_uri": "https://localhost:8080/"
        },
        "id": "XL2Npheqdkzc",
        "outputId": "42194f30-2a5a-466e-af50-e32bc0366c76"
      },
      "execution_count": null,
      "outputs": [
        {
          "output_type": "stream",
          "name": "stdout",
          "text": [
            "[1, 3, 4, 12, 100]\n"
          ]
        }
      ]
    },
    {
      "cell_type": "code",
      "source": [
        "#Searching elements\n",
        "list1 = [100, 3, 4, 12, 1]\n",
        "list1.sort()\n",
        "print(list1)"
      ],
      "metadata": {
        "colab": {
          "base_uri": "https://localhost:8080/"
        },
        "id": "dmcJ8LqgdraX",
        "outputId": "6f658c02-9f8c-43ee-ce49-ee24acbc667f"
      },
      "execution_count": null,
      "outputs": [
        {
          "output_type": "stream",
          "name": "stdout",
          "text": [
            "[1, 3, 4, 12, 100]\n"
          ]
        }
      ]
    },
    {
      "cell_type": "code",
      "source": [
        "#Reversing element\n",
        "list1 = [100, 3, 4, 12, 1]\n",
        "list1.reverse()\n",
        "print(list1)"
      ],
      "metadata": {
        "colab": {
          "base_uri": "https://localhost:8080/"
        },
        "id": "H3mb-CYld0RZ",
        "outputId": "99a19ab7-b581-46e6-8880-898ad175efe7"
      },
      "execution_count": null,
      "outputs": [
        {
          "output_type": "stream",
          "name": "stdout",
          "text": [
            "[1, 12, 4, 3, 100]\n"
          ]
        }
      ]
    },
    {
      "cell_type": "code",
      "source": [
        "#Counting elements\n",
        "list1 = [1, 2, 3, 6, 2, 2, 2]\n",
        "print(list1.count(2))"
      ],
      "metadata": {
        "colab": {
          "base_uri": "https://localhost:8080/"
        },
        "id": "YQhv5iNleAUA",
        "outputId": "d3bed618-1928-4a58-aed1-2e56780faf42"
      },
      "execution_count": null,
      "outputs": [
        {
          "output_type": "stream",
          "name": "stdout",
          "text": [
            "4\n"
          ]
        }
      ]
    },
    {
      "cell_type": "markdown",
      "source": [
        "**Dictionary**"
      ],
      "metadata": {
        "id": "jiF_5k8geHco"
      }
    },
    {
      "cell_type": "code",
      "source": [
        "dict1 = {\"key1\": \"value1\", \"key2\": \"value2\"}\n",
        "dict2 = {}\n",
        "dict3 = dict({1: \"one\", 2: \"two\", 3: \"three\"})\n",
        "print(dict1)\n",
        "\n",
        "print(dict2)\n",
        "\n",
        "print(dict3)"
      ],
      "metadata": {
        "colab": {
          "base_uri": "https://localhost:8080/"
        },
        "id": "AFnJSbc-eTGq",
        "outputId": "587c71f4-6e5c-4718-bf51-63c3d2f66c22"
      },
      "execution_count": null,
      "outputs": [
        {
          "output_type": "stream",
          "name": "stdout",
          "text": [
            "{'key1': 'value1', 'key2': 'value2'}\n",
            "{}\n",
            "{1: 'one', 2: 'two', 3: 'three'}\n"
          ]
        }
      ]
    },
    {
      "cell_type": "code",
      "source": [
        "#Indexing\n",
        "dict1 = {\"one\": 1, \"two\": 2, \"three\": 3}\n",
        "print(dict1.keys())\n",
        "print(dict1.values())\n",
        "print(dict1['two'])"
      ],
      "metadata": {
        "colab": {
          "base_uri": "https://localhost:8080/"
        },
        "id": "MKj_m-rgeZAQ",
        "outputId": "7903deaf-02fe-4e1c-b676-d4fcba291753"
      },
      "execution_count": null,
      "outputs": [
        {
          "output_type": "stream",
          "name": "stdout",
          "text": [
            "dict_keys(['one', 'two', 'three'])\n",
            "dict_values([1, 2, 3])\n",
            "2\n"
          ]
        }
      ]
    },
    {
      "cell_type": "code",
      "source": [
        "#Adding elements\n",
        "dict1 = {\"India\": \"IN\", \"Russia\": \"RU\", \"Australia\": \"AU\"}\n",
        "dict1.update({\"Canada\": \"CA\"})\n",
        "print(dict1)\n",
        "dict1.pop(\"Australia\")\n",
        "print(dict1)"
      ],
      "metadata": {
        "colab": {
          "base_uri": "https://localhost:8080/"
        },
        "id": "XMb6EbW0eiRr",
        "outputId": "13879734-9198-4659-818d-2eeca1ab55e0"
      },
      "execution_count": null,
      "outputs": [
        {
          "output_type": "stream",
          "name": "stdout",
          "text": [
            "{'India': 'IN', 'Russia': 'RU', 'Australia': 'AU', 'Canada': 'CA'}\n",
            "{'India': 'IN', 'Russia': 'RU', 'Canada': 'CA'}\n"
          ]
        }
      ]
    },
    {
      "cell_type": "code",
      "source": [
        "#Deleting elements\n",
        "dict1 = {\"India\": \"IN\", \"Russia\": \"RU\", \"Australia\": \"AU\"}\n",
        "dict1.pop('Russia')\n",
        "print(dict1)"
      ],
      "metadata": {
        "colab": {
          "base_uri": "https://localhost:8080/"
        },
        "id": "WCUntrJBeo4o",
        "outputId": "46d8ca49-ec5d-494b-f9d3-e4d7fac8176c"
      },
      "execution_count": null,
      "outputs": [
        {
          "output_type": "stream",
          "name": "stdout",
          "text": [
            "{'India': 'IN', 'Australia': 'AU'}\n"
          ]
        }
      ]
    },
    {
      "cell_type": "code",
      "source": [
        "#Sorting Elements\n",
        "dict1 = {\"India\": \"IN\", \"Russia\": \"RU\", \"Australia\": \"AU\"}\n",
        "print(sorted(dict1))"
      ],
      "metadata": {
        "colab": {
          "base_uri": "https://localhost:8080/"
        },
        "id": "6f0j3tTNe9oq",
        "outputId": "1d63394c-d077-4c59-e50e-ebc31d39e2b4"
      },
      "execution_count": null,
      "outputs": [
        {
          "output_type": "stream",
          "name": "stdout",
          "text": [
            "['Australia', 'India', 'Russia']\n"
          ]
        }
      ]
    },
    {
      "cell_type": "code",
      "source": [
        "#Searching Elements\n",
        "dict1 = {\"India\": \"IN\", \"Russia\": \"RU\", \"Australia\": \"AU\"}\n",
        "print(dict1['Australia'])"
      ],
      "metadata": {
        "colab": {
          "base_uri": "https://localhost:8080/"
        },
        "id": "987e6F0Ze1so",
        "outputId": "28382b6e-8b2b-4836-e560-c56c810b8df8"
      },
      "execution_count": null,
      "outputs": [
        {
          "output_type": "stream",
          "name": "stdout",
          "text": [
            "AU\n"
          ]
        }
      ]
    },
    {
      "cell_type": "markdown",
      "source": [
        "**SET**"
      ],
      "metadata": {
        "id": "jLwA5up2fUNw"
      }
    },
    {
      "cell_type": "code",
      "source": [
        "first_set = set((\"Connor\", 32, (1, 2, 3)))\n",
        "print(first_set)"
      ],
      "metadata": {
        "colab": {
          "base_uri": "https://localhost:8080/"
        },
        "id": "FdWSgilcfJlZ",
        "outputId": "52e2ff74-ee95-45a0-9942-99fa0070d427"
      },
      "execution_count": null,
      "outputs": [
        {
          "output_type": "execute_result",
          "data": {
            "text/plain": [
              "{(1, 2, 3), 32, 'Connor'}"
            ]
          },
          "metadata": {},
          "execution_count": 3
        }
      ]
    },
    {
      "cell_type": "code",
      "source": [
        "second_set = set(\"Connor\")\n",
        "second_set"
      ],
      "metadata": {
        "colab": {
          "base_uri": "https://localhost:8080/"
        },
        "id": "eJDVOSqb8T5v",
        "outputId": "9ac719fb-b719-4589-d0c1-22aa7749861f"
      },
      "execution_count": null,
      "outputs": [
        {
          "output_type": "execute_result",
          "data": {
            "text/plain": [
              "{'C', 'n', 'o', 'r'}"
            ]
          },
          "metadata": {},
          "execution_count": 4
        }
      ]
    },
    {
      "cell_type": "code",
      "source": [
        "#Adding elements\n",
        "first_set.update((\"cello\", \"violin\"))\n",
        "print(first_set)"
      ],
      "metadata": {
        "colab": {
          "base_uri": "https://localhost:8080/"
        },
        "id": "UaqpjUO-8l8w",
        "outputId": "39025497-f608-454e-dcb0-07e2c903d7c8"
      },
      "execution_count": null,
      "outputs": [
        {
          "output_type": "stream",
          "name": "stdout",
          "text": [
            "{32, 'Connor', (1, 2, 3), 'violin', 'cello'}\n"
          ]
        }
      ]
    },
    {
      "cell_type": "code",
      "source": [
        "#Remove elements\n",
        "set1 = first_set.discard(2)\n",
        "print(set1)\n",
        "\n",
        "set2 = first_set.pop()\n",
        "print(set2)\n",
        "\n",
        "set3  = first_set.clear()\n",
        "print(set3)"
      ],
      "metadata": {
        "colab": {
          "base_uri": "https://localhost:8080/"
        },
        "id": "l-e16e2B87ny",
        "outputId": "43cd936e-818e-4231-c53d-2f98bb122278"
      },
      "execution_count": null,
      "outputs": [
        {
          "output_type": "stream",
          "name": "stdout",
          "text": [
            "None\n",
            "32\n",
            "None\n"
          ]
        }
      ]
    }
  ]
}